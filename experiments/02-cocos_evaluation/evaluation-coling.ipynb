{
 "cells": [
  {
   "metadata": {
    "ExecuteTime": {
     "end_time": "2024-06-09T06:43:17.932735Z",
     "start_time": "2024-06-09T06:43:16.042641Z"
    }
   },
   "cell_type": "code",
   "source": [
    "import datasets\n",
    "import torch\n",
    "%matplotlib inline\n",
    "import pandas as pd\n",
    "from cocos.utils import get_project_root\n",
    "\n",
    "from evaluate import plot_embeddings, compute_metrics, evaluate\n",
    "import os\n",
    "\n",
    "os.environ[\"TOKENIZERS_PARALLELISM\"] = \"false\"\n",
    "\n",
    "datasets.enable_caching()\n",
    "torch.multiprocessing.set_sharing_strategy('file_system')"
   ],
   "id": "7bc20f0bd2d098ef",
   "outputs": [],
   "execution_count": 1
  },
  {
   "cell_type": "code",
   "id": "82b818d1-73ad-4521-a0de-331ab80c343a",
   "metadata": {
    "ExecuteTime": {
     "end_time": "2024-06-09T06:43:18.088875Z",
     "start_time": "2024-06-09T06:43:18.087081Z"
    }
   },
   "source": [
    "MODELS = {\n",
    "    'TS,IM,DE': get_project_root() / 'checkpoints/paper_models/ts_im_de/epoch=0-step=412499.ckpt',\n",
    "    'TS,IM': get_project_root() / 'checkpoints/paper_models/ts_im/epoch=0-step=397499.ckpt',\n",
    "    'TS,DE': get_project_root() / 'checkpoints/paper_models/ts_de/epoch=0-step=389999.ckpt',\n",
    "    'TS': get_project_root() / 'checkpoints/paper_models/ts/epoch=0-step=397499.ckpt',\n",
    "    'None': get_project_root() / 'checkpoints/paper_models/none/epoch=0-step=389999.ckpt',\n",
    "}"
   ],
   "outputs": [],
   "execution_count": 2
  },
  {
   "cell_type": "code",
   "id": "8730c3ec-571e-45b0-bcf6-0ebe729fe035",
   "metadata": {
    "ExecuteTime": {
     "end_time": "2024-06-09T06:43:18.091267Z",
     "start_time": "2024-06-09T06:43:18.089346Z"
    }
   },
   "source": [
    "def print_table(model_metrics):\n",
    "    rows = []\n",
    "\n",
    "    for model_name, stats in model_metrics.items():\n",
    "        for run in stats:\n",
    "            r = {\n",
    "                \"model_name\": model_name,\n",
    "                **run[\"metrics\"],\n",
    "            }\n",
    "            rows.append(r)\n",
    "\n",
    "    df = pd.DataFrame.from_records(rows)\n",
    "    df = df.sort_values([\"MAP\"])\n",
    "    with pd.option_context('display.max_rows', None, 'display.max_columns', None):\n",
    "        display(df)"
   ],
   "outputs": [],
   "execution_count": 3
  },
  {
   "cell_type": "code",
   "id": "8906b3df-0566-4a59-8a91-b553b1681011",
   "metadata": {
    "collapsed": true,
    "jupyter": {
     "outputs_hidden": true
    },
    "tags": [],
    "ExecuteTime": {
     "end_time": "2024-06-09T07:19:51.710920Z",
     "start_time": "2024-06-09T06:43:18.091809Z"
    }
   },
   "source": [
    "model_metrics = {\n",
    "    model_name: [] for model_name in MODELS\n",
    "}\n",
    "\n",
    "for model_name, model_path in MODELS.items():\n",
    "    print(\"#\" * 100)\n",
    "    print(model_name)\n",
    "\n",
    "    qe1, te1, q_l1, t_l1, id2desc1, metrics = evaluate(\n",
    "        model_path, \n",
    "        max_distraction_snippets = 10000, \n",
    "        device=\"cpu\"\n",
    "    )\n",
    "    res = {\n",
    "        \"metrics\": metrics\n",
    "    }\n",
    "    model_metrics[model_name].append(res)\n"
   ],
   "outputs": [
    {
     "name": "stdout",
     "output_type": "stream",
     "text": [
      "####################################################################################################\n",
      "TS,IM,DE\n"
     ]
    },
    {
     "name": "stderr",
     "output_type": "stream",
     "text": [
      "Embedding queries:   0%|          | 0/303 [00:00<?, ?it/s]\n",
      "Embedding queries: 100%|██████████| 303/303 [01:15<00:00,  4.02it/s]\n",
      "Embedding targets:   0%|          | 0/5303 [00:00<?, ?it/s]\n",
      "Embedding targets: 100%|██████████| 5303/5303 [05:55<00:00, 14.91it/s]\n"
     ]
    },
    {
     "name": "stdout",
     "output_type": "stream",
     "text": [
      "MAP: 50.87\n",
      "####################################################################################################\n",
      "TS,IM\n"
     ]
    },
    {
     "name": "stderr",
     "output_type": "stream",
     "text": [
      "Embedding queries:   0%|          | 0/303 [00:00<?, ?it/s]\n",
      "Embedding queries: 100%|██████████| 303/303 [01:11<00:00,  4.22it/s]\n",
      "Embedding targets:   0%|          | 0/5303 [00:00<?, ?it/s]\n",
      "Embedding targets: 100%|██████████| 5303/5303 [05:45<00:00, 15.36it/s]\n"
     ]
    },
    {
     "name": "stdout",
     "output_type": "stream",
     "text": [
      "MAP: 33.78\n",
      "####################################################################################################\n",
      "TS,DE\n"
     ]
    },
    {
     "name": "stderr",
     "output_type": "stream",
     "text": [
      "Embedding queries:   0%|          | 0/303 [00:00<?, ?it/s]\n",
      "Embedding queries: 100%|██████████| 303/303 [01:14<00:00,  4.09it/s]\n",
      "Embedding targets:   0%|          | 0/5303 [00:00<?, ?it/s]\n",
      "Embedding targets: 100%|██████████| 5303/5303 [06:20<00:00, 13.93it/s]\n"
     ]
    },
    {
     "name": "stdout",
     "output_type": "stream",
     "text": [
      "MAP: 36.32\n",
      "####################################################################################################\n",
      "TS\n"
     ]
    },
    {
     "name": "stderr",
     "output_type": "stream",
     "text": [
      "Embedding queries:   0%|          | 0/303 [00:00<?, ?it/s]\n",
      "Embedding queries: 100%|██████████| 303/303 [01:13<00:00,  4.12it/s]\n",
      "Embedding targets:   0%|          | 0/5303 [00:00<?, ?it/s]\n",
      "Embedding targets: 100%|██████████| 5303/5303 [05:40<00:00, 15.56it/s]\n"
     ]
    },
    {
     "name": "stdout",
     "output_type": "stream",
     "text": [
      "MAP: 26.47\n",
      "####################################################################################################\n",
      "None\n"
     ]
    },
    {
     "name": "stderr",
     "output_type": "stream",
     "text": [
      "Embedding queries:   0%|          | 0/303 [00:00<?, ?it/s]\n",
      "Embedding queries: 100%|██████████| 303/303 [01:13<00:00,  4.10it/s]\n",
      "Embedding targets:   0%|          | 0/5303 [00:00<?, ?it/s]\n",
      "Embedding targets: 100%|██████████| 5303/5303 [06:17<00:00, 14.06it/s]\n"
     ]
    },
    {
     "name": "stdout",
     "output_type": "stream",
     "text": [
      "MAP: 15.65\n"
     ]
    }
   ],
   "execution_count": 4
  },
  {
   "cell_type": "code",
   "id": "1eea5067-ced6-447b-87e4-bf169d2e81e8",
   "metadata": {
    "ExecuteTime": {
     "end_time": "2024-06-09T07:19:51.724496Z",
     "start_time": "2024-06-09T07:19:51.711735Z"
    }
   },
   "source": [
    "print_table(model_metrics)"
   ],
   "outputs": [
    {
     "data": {
      "text/plain": [
       "  model_name    MAP   NDCG  R-Precision    P@1    P@3   P@10\n",
       "4       None  15.65  49.85        18.32  45.87  37.95  24.77\n",
       "3         TS  26.47  59.64        27.18  58.09  50.77  36.96\n",
       "1      TS,IM  33.78  66.03        33.21  69.80  60.95  45.33\n",
       "2      TS,DE  36.32  65.94        35.57  59.41  54.57  44.39\n",
       "0   TS,IM,DE  50.87  76.28        48.80  73.60  70.30  59.70"
      ],
      "text/html": [
       "<div>\n",
       "<style scoped>\n",
       "    .dataframe tbody tr th:only-of-type {\n",
       "        vertical-align: middle;\n",
       "    }\n",
       "\n",
       "    .dataframe tbody tr th {\n",
       "        vertical-align: top;\n",
       "    }\n",
       "\n",
       "    .dataframe thead th {\n",
       "        text-align: right;\n",
       "    }\n",
       "</style>\n",
       "<table border=\"1\" class=\"dataframe\">\n",
       "  <thead>\n",
       "    <tr style=\"text-align: right;\">\n",
       "      <th></th>\n",
       "      <th>model_name</th>\n",
       "      <th>MAP</th>\n",
       "      <th>NDCG</th>\n",
       "      <th>R-Precision</th>\n",
       "      <th>P@1</th>\n",
       "      <th>P@3</th>\n",
       "      <th>P@10</th>\n",
       "    </tr>\n",
       "  </thead>\n",
       "  <tbody>\n",
       "    <tr>\n",
       "      <th>4</th>\n",
       "      <td>None</td>\n",
       "      <td>15.65</td>\n",
       "      <td>49.85</td>\n",
       "      <td>18.32</td>\n",
       "      <td>45.87</td>\n",
       "      <td>37.95</td>\n",
       "      <td>24.77</td>\n",
       "    </tr>\n",
       "    <tr>\n",
       "      <th>3</th>\n",
       "      <td>TS</td>\n",
       "      <td>26.47</td>\n",
       "      <td>59.64</td>\n",
       "      <td>27.18</td>\n",
       "      <td>58.09</td>\n",
       "      <td>50.77</td>\n",
       "      <td>36.96</td>\n",
       "    </tr>\n",
       "    <tr>\n",
       "      <th>1</th>\n",
       "      <td>TS,IM</td>\n",
       "      <td>33.78</td>\n",
       "      <td>66.03</td>\n",
       "      <td>33.21</td>\n",
       "      <td>69.80</td>\n",
       "      <td>60.95</td>\n",
       "      <td>45.33</td>\n",
       "    </tr>\n",
       "    <tr>\n",
       "      <th>2</th>\n",
       "      <td>TS,DE</td>\n",
       "      <td>36.32</td>\n",
       "      <td>65.94</td>\n",
       "      <td>35.57</td>\n",
       "      <td>59.41</td>\n",
       "      <td>54.57</td>\n",
       "      <td>44.39</td>\n",
       "    </tr>\n",
       "    <tr>\n",
       "      <th>0</th>\n",
       "      <td>TS,IM,DE</td>\n",
       "      <td>50.87</td>\n",
       "      <td>76.28</td>\n",
       "      <td>48.80</td>\n",
       "      <td>73.60</td>\n",
       "      <td>70.30</td>\n",
       "      <td>59.70</td>\n",
       "    </tr>\n",
       "  </tbody>\n",
       "</table>\n",
       "</div>"
      ]
     },
     "metadata": {},
     "output_type": "display_data"
    }
   ],
   "execution_count": 5
  }
 ],
 "metadata": {
  "kernelspec": {
   "display_name": "Python 3 (ipykernel)",
   "language": "python",
   "name": "python3"
  },
  "language_info": {
   "codemirror_mode": {
    "name": "ipython",
    "version": 3
   },
   "file_extension": ".py",
   "mimetype": "text/x-python",
   "name": "python",
   "nbconvert_exporter": "python",
   "pygments_lexer": "ipython3",
   "version": "3.9.7"
  }
 },
 "nbformat": 4,
 "nbformat_minor": 5
}
